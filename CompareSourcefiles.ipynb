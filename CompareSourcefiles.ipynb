{
 "cells": [
  {
   "cell_type": "code",
   "execution_count": 49,
   "metadata": {},
   "outputs": [],
   "source": [
    "import pandas as pd\n",
    "import numpy as np\n",
    "import os"
   ]
  },
  {
   "cell_type": "markdown",
   "metadata": {},
   "source": [
    "1. Creating a workable file. This file will be the First file to compare"
   ]
  },
  {
   "cell_type": "code",
   "execution_count": 50,
   "metadata": {},
   "outputs": [],
   "source": [
    "#Reading raw file\n",
    "df_original = pd.read_csv('employees.csv')"
   ]
  },
  {
   "cell_type": "code",
   "execution_count": 51,
   "metadata": {},
   "outputs": [],
   "source": [
    "#Creating folder if it doesnt exists\n",
    "directory = 'generated_Resources'\n",
    "if not os.path.exists(directory):\n",
    "    os.makedirs(directory)"
   ]
  },
  {
   "cell_type": "code",
   "execution_count": 52,
   "metadata": {},
   "outputs": [],
   "source": [
    "#Function which returns a string in the specified format\n",
    "def default_value_format(column_name):\n",
    "    return f\"Default_{column_name}\""
   ]
  },
  {
   "cell_type": "code",
   "execution_count": 53,
   "metadata": {},
   "outputs": [],
   "source": [
    "#Filling the missing value in each column with the response from above function\n",
    "for column in df_original.columns:\n",
    "    default_value = default_value_format(column)\n",
    "    df_original[column]=df_original[column].fillna(default_value)\n",
    "df_original.to_csv('generated_Resources/employees-updated.csv', index=False)"
   ]
  },
  {
   "cell_type": "code",
   "execution_count": 54,
   "metadata": {},
   "outputs": [],
   "source": [
    "#Reading the Processed file\n",
    "df_filled_data = pd.read_csv('generated_Resources/employees-updated.csv')\n",
    "#df_original.head(5)"
   ]
  },
  {
   "cell_type": "markdown",
   "metadata": {},
   "source": [
    "2. Count of total difference in values between 2 dataframes should be equal to the value received in the below snippet"
   ]
  },
  {
   "cell_type": "code",
   "execution_count": 55,
   "metadata": {},
   "outputs": [
    {
     "name": "stdout",
     "output_type": "stream",
     "text": [
      "Count of rows where the firstname contains 'default': 68\n"
     ]
    }
   ],
   "source": [
    "#Count the rows where the firstname column contains \"default\"\n",
    "count = df_original[df_original['First Name'].str.contains('default', case=False)].shape[0]\n",
    "print(\"Count of rows where the firstname contains 'default':\", count)"
   ]
  },
  {
   "cell_type": "markdown",
   "metadata": {},
   "source": [
    "3. Creating an updated copy of excel to compare at later stage.This will be the Second file to compare"
   ]
  },
  {
   "cell_type": "code",
   "execution_count": 56,
   "metadata": {},
   "outputs": [],
   "source": [
    "#Filter the original DataFrame to select rows where the \"First Name\" contains the word \"Default\"\n",
    "filtered_rows = df_filled_data['First Name'].str.contains('Default', case=False)"
   ]
  },
  {
   "cell_type": "code",
   "execution_count": 57,
   "metadata": {},
   "outputs": [],
   "source": [
    "#Create a new DataFrame with updated \"Last Login Time\" values for rows with name containing 'Default'\n",
    "df_updated = df_filled_data.copy()\n",
    "df_updated.loc[filtered_rows, 'Last Login Time'] = '2024-02-18 ' + df_filled_data.loc[filtered_rows, 'Last Login Time']"
   ]
  },
  {
   "cell_type": "code",
   "execution_count": 58,
   "metadata": {},
   "outputs": [],
   "source": [
    "# Save the updated DataFrame to Default-employee-Login-updated.csv file\n",
    "df_updated.to_csv('generated_Resources/Default-employee-Login-updated.csv', index=False)\n",
    "df_Login_updated = pd.read_csv('generated_Resources/Default-employee-Login-updated.csv')\n",
    "#df_updated.head(5)"
   ]
  },
  {
   "cell_type": "markdown",
   "metadata": {},
   "source": [
    "4. Comparing the dataframes to find difference between First & Second file"
   ]
  },
  {
   "cell_type": "code",
   "execution_count": 59,
   "metadata": {},
   "outputs": [],
   "source": [
    "#compare dataframes\n",
    "df_prep_final = df_Login_updated.copy()\n",
    "df_diff = df_filled_data.values != df_Login_updated.values"
   ]
  },
  {
   "cell_type": "code",
   "execution_count": 60,
   "metadata": {},
   "outputs": [
    {
     "name": "stdout",
     "output_type": "stream",
     "text": [
      "Count of rows in Second file which didnt match with that in the First file : 68\n"
     ]
    }
   ],
   "source": [
    "# Iterate over each cell in the DataFrame to update changes\n",
    "updated_cells_count=0\n",
    "for row_idx, col_idx in zip(*df_diff.nonzero()):\n",
    "    old_value = df_filled_data.iat[row_idx, col_idx]\n",
    "    new_value = df_Login_updated.iat[row_idx, col_idx]\n",
    "    updated_cells_count += 1\n",
    "    df_filled_data.iat[row_idx, col_idx] = f'{old_value} -> {new_value}'\n",
    "df_filled_data.to_csv('generated_Resources/final_employee.csv', index=False)\n",
    "print(\"Count of rows in Second file which didnt match with that in the First file :\", updated_cells_count)\n",
    "assert updated_cells_count == count, f\"Assertion failed: Updated cells count {updated_cells_count} does not match count {count}.\""
   ]
  }
 ],
 "metadata": {
  "kernelspec": {
   "display_name": "myenv",
   "language": "python",
   "name": "python3"
  },
  "language_info": {
   "codemirror_mode": {
    "name": "ipython",
    "version": 3
   },
   "file_extension": ".py",
   "mimetype": "text/x-python",
   "name": "python",
   "nbconvert_exporter": "python",
   "pygments_lexer": "ipython3",
   "version": "3.11.4"
  }
 },
 "nbformat": 4,
 "nbformat_minor": 2
}
